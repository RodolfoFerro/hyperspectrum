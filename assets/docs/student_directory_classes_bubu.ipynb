{
 "cells": [
  {
   "cell_type": "code",
   "execution_count": 2,
   "metadata": {},
   "outputs": [],
   "source": [
    "from random import randint"
   ]
  },
  {
   "cell_type": "code",
   "execution_count": 3,
   "metadata": {},
   "outputs": [],
   "source": [
    "class Student():\n",
    "    \n",
    "    #Attributes\n",
    "    def __init__(self, name = \"\", age = 0, topic = [], under_age = True):\n",
    "        \n",
    "        self.name = name\n",
    "        self.age = age\n",
    "        self.topic = topic\n",
    "        \n",
    "        if self.age >= 19:\n",
    "            under_age = False\n",
    "        \n",
    "        self.ID = f\"{self.name[0:2].lower()}{age}{randint(10, 1000)}\"\n",
    "        \n",
    "    #Special Methods\n",
    "    def __str__(self):\n",
    "        return f\"{self.name} \\n{self.age} years old \\nTopics: {self.topic} \\nID: {self.ID}\""
   ]
  },
  {
   "cell_type": "code",
   "execution_count": 4,
   "metadata": {},
   "outputs": [],
   "source": [
    "class Directory():\n",
    "\n",
    "    #Attributes\n",
    "    def __init__(self, student_list):\n",
    "        \n",
    "        self.student_list = student_list\n",
    "        self.ID = len(student_list)\n",
    "\n",
    "        \n",
    "    #Special Methods\n",
    "    def __str__(self):\n",
    "        \n",
    "        data = \"\"\n",
    "        \n",
    "        for stud in self.student_list:\n",
    "            data += str(stud) + \"\\n\"\n",
    "    \n",
    "        return data\n",
    "    \n",
    "    def __len__(self):\n",
    "        return len(self.student_list)\n",
    "    \n",
    "    #Methods\n",
    "    def add(self, student):\n",
    "        self.student_list.append(student) \n",
    "        \n",
    "    def edit_profile(self, ID, name = \"\", age = -1, topic = []):\n",
    "        \n",
    "        index = 0\n",
    "        for student_id in self.student_list:\n",
    "            if student_id.ID == ID:\n",
    "                break;\n",
    "            index += 1;\n",
    "        \n",
    "        if index == len(self.student_list):\n",
    "            print(\"No existe el alumno\")\n",
    "            return\n",
    "        \n",
    "        if name != \"\":\n",
    "            self.student_list[index].name = name\n",
    "        if age != -1:\n",
    "            self.student_list[index].age = age\n",
    "        if topic != []:\n",
    "            self.student_list[index].topic = topic"
   ]
  },
  {
   "cell_type": "code",
   "execution_count": 5,
   "metadata": {},
   "outputs": [],
   "source": [
    "Missa = Student(\"Missa\", 19, [\"Física\", \"Programación\", \"Química\"])"
   ]
  },
  {
   "cell_type": "code",
   "execution_count": 6,
   "metadata": {},
   "outputs": [],
   "source": [
    "Liz = Student(\"Liz\", 15, [\"Biología\", \"Programación\", \"Química\"])"
   ]
  },
  {
   "cell_type": "code",
   "execution_count": 7,
   "metadata": {},
   "outputs": [],
   "source": [
    "Bubu = Student(\"Bubu\", 19, [\"Física\", \"Programación\", \"Matemáticas\"])"
   ]
  },
  {
   "cell_type": "code",
   "execution_count": 8,
   "metadata": {},
   "outputs": [],
   "source": [
    "clubes = Directory([])"
   ]
  },
  {
   "cell_type": "code",
   "execution_count": 9,
   "metadata": {},
   "outputs": [],
   "source": [
    "clubes.add(Missa)\n",
    "clubes.add(Bubu)\n",
    "clubes.add(Liz)"
   ]
  },
  {
   "cell_type": "code",
   "execution_count": 10,
   "metadata": {},
   "outputs": [
    {
     "name": "stdout",
     "output_type": "stream",
     "text": [
      "Missa \n",
      "19 years old \n",
      "Topics: ['Física', 'Programación', 'Química'] \n",
      "ID: mi19432\n",
      "Bubu \n",
      "19 years old \n",
      "Topics: ['Física', 'Programación', 'Matemáticas'] \n",
      "ID: bu19767\n",
      "Liz \n",
      "15 years old \n",
      "Topics: ['Biología', 'Programación', 'Química'] \n",
      "ID: li1548\n",
      "\n"
     ]
    }
   ],
   "source": [
    "print(clubes)"
   ]
  },
  {
   "cell_type": "code",
   "execution_count": 12,
   "metadata": {},
   "outputs": [],
   "source": [
    "clubes.edit_profile(\"bu19767\", \"David\", 19, [\"Hola wenas noshes\", \"wassaaaaa\", \"Probando\", \"cosas\"])"
   ]
  },
  {
   "cell_type": "code",
   "execution_count": 13,
   "metadata": {},
   "outputs": [
    {
     "name": "stdout",
     "output_type": "stream",
     "text": [
      "Missa \n",
      "19 years old \n",
      "Topics: ['Física', 'Programación', 'Química'] \n",
      "ID: mi19432\n",
      "David \n",
      "19 years old \n",
      "Topics: ['Hola wenas noshes', 'wassaaaaa', 'Probando', 'cosas'] \n",
      "ID: bu19767\n",
      "Liz \n",
      "15 years old \n",
      "Topics: ['Biología', 'Programación', 'Química'] \n",
      "ID: li1548\n",
      "\n"
     ]
    }
   ],
   "source": [
    "print(clubes)"
   ]
  },
  {
   "cell_type": "code",
   "execution_count": null,
   "metadata": {},
   "outputs": [],
   "source": []
  }
 ],
 "metadata": {
  "kernelspec": {
   "display_name": "Python 3",
   "language": "python",
   "name": "python3"
  },
  "language_info": {
   "codemirror_mode": {
    "name": "ipython",
    "version": 3
   },
   "file_extension": ".py",
   "mimetype": "text/x-python",
   "name": "python",
   "nbconvert_exporter": "python",
   "pygments_lexer": "ipython3",
   "version": "3.7.3"
  }
 },
 "nbformat": 4,
 "nbformat_minor": 2
}
