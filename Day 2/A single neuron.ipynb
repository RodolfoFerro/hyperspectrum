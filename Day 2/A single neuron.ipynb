{
  "nbformat": 4,
  "nbformat_minor": 0,
  "metadata": {
    "colab": {
      "name": "A Single Neuron",
      "version": "0.3.2",
      "provenance": [],
      "collapsed_sections": [],
      "include_colab_link": true
    },
    "kernelspec": {
      "name": "python3",
      "display_name": "Python 3"
    }
  },
  "cells": [
    {
      "cell_type": "markdown",
      "metadata": {
        "id": "view-in-github",
        "colab_type": "text"
      },
      "source": [
        "<a href=\"https://colab.research.google.com/github/RodolfoFerro/hyperspectrum/blob/master/Day%202/A%20single%20neuron.ipynb\" target=\"_blank\"><img src=\"https://colab.research.google.com/assets/colab-badge.svg\" alt=\"Open In Colab\"/></a>"
      ]
    },
    {
      "cell_type": "markdown",
      "metadata": {
        "id": "gFAxlcJAx3q3",
        "colab_type": "text"
      },
      "source": [
        "# Can a single neuron make a simple decision?\n",
        "\n",
        "Along this notebook we'll explain how a single neuron can make a simple decision. \n",
        "\n",
        "For this problem we will build a simple perceptron, as proposed by [McCulloch & Pitts](https://es.wikipedia.org/wiki/Neurona_de_McCulloch-Pitts).\n",
        "\n",
        "\n",
        "### Problem statement:\n",
        "\n",
        "Imagine that you were accepted to Clubes de Ciencia México for its 2019 Edition. What are the considerations that you need to take care about in order to attend the edition?\n",
        "\n",
        "> #### What do we need to do?\n",
        "> Program a perceptron to take this simple decision.\n",
        ">\n",
        "> Specifically, we are going to do the following:\n",
        "> - Construct the class and its constructor\n",
        "> - Construct the decision making function\n",
        "> - Define a list of considerations to have in mind\n",
        "> - Think about a reasonable threshold value to make a decision\n",
        "> - Solve the problem\n",
        "\n",
        "\n",
        "## The neuron structure\n",
        "\n",
        "The following image describes a single neuron and how we will need to probram the main structure:\n",
        "\n",
        "<center>\n",
        "    <img width=\"50%\" src=\"https://camo.githubusercontent.com/0e433317a51ea67fb061925026ed3c1c3692cb35/68747470733a2f2f696e7369676874732e7365692e636d752e6564752f7365695f626c6f672f73657374696c6c695f646565706c6561726e696e675f6172746966696369616c6e6575726f6e332e706e67\">\n",
        "</center>"
      ]
    },
    {
      "cell_type": "code",
      "metadata": {
        "id": "5o_FIS_Kv8Kj",
        "colab_type": "code",
        "colab": {}
      },
      "source": [
        "import numpy as np\n",
        "\n",
        "class perceptron():\n",
        "    def __init__(self, inputs, weights, name):\n",
        "        \"\"\"Class constructor.\"\"\"\n",
        "        # TODO.\n",
        "        # Initialize attributes: \n",
        "        # - Size\n",
        "        # - Inputs\n",
        "        # - Weights\n",
        "        # - Name\n",
        "        pass\n",
        "\n",
        "    def decide(self, threshold):\n",
        "        \"\"\"Deciding function.\"\"\"\n",
        "        # TODO.\n",
        "        # Compute the inner product and compare with threshold.\n",
        "        pass"
      ],
      "execution_count": 0,
      "outputs": []
    },
    {
      "cell_type": "markdown",
      "metadata": {
        "id": "u3pNbj-21n6w",
        "colab_type": "text"
      },
      "source": [
        "## Solving the problem\n",
        "\n",
        "Now that we have the neuron structure, we are able to solve our decision problem.\n",
        "\n",
        "We will genrate a list of questions so we can enter the input value and the associated weight for each one."
      ]
    },
    {
      "cell_type": "code",
      "metadata": {
        "id": "DcT9ChE91nMF",
        "colab_type": "code",
        "colab": {}
      },
      "source": [
        "inputs, weights = [], []\n",
        "\n",
        "considerations = [\n",
        "    \"Is it going to rain? \"\n",
        "]\n",
        "\n",
        "for consideration in considerations:\n",
        "    # Let's ask for things to consider and their weights:\n",
        "    i = int(input(consideration))\n",
        "    w = int(input(\"And its associated weight is... \"))\n",
        "    print()\n",
        "    \n",
        "    # Let's add them to our lists:\n",
        "    inputs.append(i)\n",
        "    weights.append(w)\n",
        "\n",
        "threshold = int(input(\"Now, let's set the threshold: \"))"
      ],
      "execution_count": 0,
      "outputs": []
    },
    {
      "cell_type": "code",
      "metadata": {
        "id": "-08d50VO2HFs",
        "colab_type": "code",
        "colab": {}
      },
      "source": [
        "p = perceptron(inputs, weights, \"A simple decision.\")\n",
        "p.size"
      ],
      "execution_count": 0,
      "outputs": []
    },
    {
      "cell_type": "markdown",
      "metadata": {
        "id": "Y1L8K2LM4Z1w",
        "colab_type": "text"
      },
      "source": [
        "Now let's take a decision using the perceptron."
      ]
    },
    {
      "cell_type": "code",
      "metadata": {
        "id": "9ktwi7b74aOT",
        "colab_type": "code",
        "colab": {}
      },
      "source": [
        "p.decide(threshold)"
      ],
      "execution_count": 0,
      "outputs": []
    },
    {
      "cell_type": "markdown",
      "metadata": {
        "id": "zlTdDGhe2GgC",
        "colab_type": "text"
      },
      "source": [
        "#### Extra activity:\n",
        "\n",
        "Modify the values of the inputs and weights, pay attention on how the decision changes based on these values."
      ]
    },
    {
      "cell_type": "code",
      "metadata": {
        "id": "x17m0qWX3Qu8",
        "colab_type": "code",
        "colab": {}
      },
      "source": [
        ""
      ],
      "execution_count": 0,
      "outputs": []
    }
  ]
}