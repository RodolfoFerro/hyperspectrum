{
  "nbformat": 4,
  "nbformat_minor": 0,
  "metadata": {
    "colab": {
      "name": "Intro to Python",
      "version": "0.3.2",
      "provenance": [],
      "collapsed_sections": [],
      "include_colab_link": true
    },
    "kernelspec": {
      "name": "python3",
      "display_name": "Python 3"
    }
  },
  "cells": [
    {
      "cell_type": "markdown",
      "metadata": {
        "id": "view-in-github",
        "colab_type": "text"
      },
      "source": [
        "<a href=\"https://colab.research.google.com/github/RodolfoFerro/hyperspectrum/blob/master/Day%201/Intro_to_Python.ipynb\" target=\"_parent\"><img src=\"https://colab.research.google.com/assets/colab-badge.svg\" alt=\"Open In Colab\"/></a>"
      ]
    },
    {
      "cell_type": "markdown",
      "metadata": {
        "id": "OpSHrtcJLQEU",
        "colab_type": "text"
      },
      "source": [
        "# Introduction to Python\n",
        "\n",
        "Along this notebook we'll explain some Python basics. The specific topics we will be covering in this introductory notebooks are the follwong:\n",
        "\n",
        "1. What is Python? \n",
        "2. _Variables_ – Types, declarations, and operations\n",
        "3. Create your flow – _Flow control_\n",
        "4. Advanced objects – _Lists_ and _dictionaries_\n",
        "5. Packing functionality – _Functions_\n",
        "\n",
        "### Problem statement:\n",
        "\n",
        "Imagine that we want to create a directory containing all the information of the students in our club. For this, we will need to construct step by step the full idea of the project.\n",
        "\n",
        "For this, we need to know about variable types, advanced objects such as lists and dictionaries, how to create functions to operate some values, and how to create new objects.\n",
        "\n",
        "> #### What do we need to do?\n",
        ">\n",
        "> Specifically, we are going to do the following:\n",
        "> - We will create a list of dictionaries containing the students' information\n",
        "> - Each dictionary will contain the following attributes:\n",
        ">    - Name `<str>`\n",
        ">    - Age `<int>`\n",
        ">    - Topics `<list>`\n",
        ">    - Under-age `<bool>`\n",
        "> - Create a function that automatically asks for student information\n",
        "\n",
        "\n",
        "## What is Python?\n",
        "\n",
        "<center>\n",
        "    <img width=\"50%\" src=\"https://www.python.org/static/community_logos/python-logo-generic.svg\">\n",
        "</center>\n",
        "\n",
        "Python is an **interpreted** programming language, which means that an _interpreter_ runs and executes your code line by line instead compiling it. Python has an elegant syntax that forces you to **indent your code to build code blocks**, so Python does not use `{ }` for code blocks. It is not common to use  semicolons in Python ( `;` ) at the end of any sentece. Another cool thing about Python is that you do not need to declare variables, you only define them, and it happens that Python is **dynamically typed**.\n",
        "\n",
        "### Hello world in Python\n",
        "\n",
        "We are going to use the input and output functions of Python to create our first hello world.\n",
        "\n",
        "You just need to run the following cell with code by pushing the _play_ button or pressing `Shift + Enter` on your keyboard."
      ]
    },
    {
      "cell_type": "code",
      "metadata": {
        "id": "lBy00gJgHaQo",
        "colab_type": "code",
        "colab": {}
      },
      "source": [
        "# Hello world in Python:\n",
        "your_name = input(\"Please write your name: \")\n",
        "print(f\"Say hello to the world, {your_name}!\")"
      ],
      "execution_count": 0,
      "outputs": []
    },
    {
      "cell_type": "markdown",
      "metadata": {
        "id": "RSJW87sPXOAh",
        "colab_type": "text"
      },
      "source": [
        "## Variables\n",
        "\n",
        "Python has several types of variables that are part of it natively. Begining with numerical variables, Python has inetegers, floating numbers, and complex numbers. It also has strings of characters to declare words, and another typpe of variables called booleans to save binary values.\n",
        "\n",
        "The way we declare variables is as follows:\n",
        "\n",
        "```python\n",
        "variable_name = <value>\n",
        "```\n",
        "\n",
        "The variable name cannot have spaces, it must begin with a letter, it can contain cappital letters or numbers inside the name.\n",
        "\n",
        "#### Example:\n",
        "\n",
        "```python\n",
        "my_dog = \"Mirlo\"\n",
        "```\n",
        "\n",
        "To get the type of a variable, we can use the `type()` fuction and pass as a parameter the variable we want to know about.\n",
        "\n",
        "#### Example:\n",
        "\n",
        "```python\n",
        "type(my_dog)\n",
        "```\n",
        "\n",
        "What happens when I execute that code?"
      ]
    },
    {
      "cell_type": "code",
      "metadata": {
        "id": "8i5sDqw-XUJP",
        "colab_type": "code",
        "colab": {}
      },
      "source": [
        "# TODO.\n",
        "# Declare a variable named my_dog and set it with a dog's name.\n",
        "# Print the type of that variable.\n"
      ],
      "execution_count": 0,
      "outputs": []
    },
    {
      "cell_type": "markdown",
      "metadata": {
        "id": "nlMAcIGEYIef",
        "colab_type": "text"
      },
      "source": [
        "There are several types of variables, even complex numbers in Python!\n",
        "\n",
        "#### Exercise:\n",
        "\n",
        "Define and print the type and value of variables named:\n",
        "- `name`, should be a `<str>` containing any name\n",
        "- `age`, should be an `<int>` containing any age\n",
        "- `pi`, should be a `<float>`containing your best approximation to pi\n",
        "- `modulus_one`, should be a `<complex number>` that has [modulus](https://en.wikipedia.org/wiki/Absolute_value#Complex_numbers) one"
      ]
    },
    {
      "cell_type": "code",
      "metadata": {
        "id": "RmbbjQIqYT6i",
        "colab_type": "code",
        "colab": {}
      },
      "source": [
        "# TODO.\n",
        "# Define sample variables and print each type and value.\n"
      ],
      "execution_count": 0,
      "outputs": []
    },
    {
      "cell_type": "markdown",
      "metadata": {
        "id": "U_cKNLU3YnP8",
        "colab_type": "text"
      },
      "source": [
        "## Flow control (conditionals)\n",
        "\n",
        "So far, we know how to define variables, so we are able to create a little more advanced blocks of code. The first thing we want to do is to create a new variable named `under_age` and we will need to define it using a contitional statement. For this, it will be useful to remember the comparison operators (<, >, <=, >=, ==, !=).\n",
        "\n",
        "The idea is the following, if the person is under-aged, the value of this variable will be `True` and it will be `False` in the other case.\n",
        "\n",
        "To declare a conditional statement, the following syntax is used:\n",
        "\n",
        "```python\n",
        "if condition:\n",
        "    # Block of code for a satisfied condition \n",
        "else:\n",
        "    # Block of code for a non-satisfied condition \n",
        "```\n",
        "\n",
        "#### Example:\n"
      ]
    },
    {
      "cell_type": "code",
      "metadata": {
        "id": "9oJook66anxJ",
        "colab_type": "code",
        "colab": {}
      },
      "source": [
        "dog_color = \"black\"\n",
        "if color == \"black\":\n",
        "    print(\"Indeed, this dog is black.\")\n",
        "else:\n",
        "    print(\"Nope, it is not a black dog.\")"
      ],
      "execution_count": 0,
      "outputs": []
    },
    {
      "cell_type": "markdown",
      "metadata": {
        "id": "XYjNLN8VjFfK",
        "colab_type": "text"
      },
      "source": [
        "In the case of having more than one condition, we can use `elif` statements:\n",
        "\n",
        "```python\n",
        "if condition_one:\n",
        "    # Block of code for a satisfied condition one\n",
        "elif condition_two:\n",
        "    # Block of code for a satisfied condition two\n",
        "...\n",
        "elif condition_nth:\n",
        "    # Block of code for a satisfied condition nth\n",
        "else:\n",
        "    # Block of code for non-satisfied conditions\n",
        "```\n",
        "\n",
        "#### Exercise:\n",
        "\n",
        "Now create a condition to define a new variable named `under_age` which will compare if the age is greater than or equal to 18 to set it as `False` or `True` in the other case."
      ]
    },
    {
      "cell_type": "code",
      "metadata": {
        "id": "xcu423b2liUI",
        "colab_type": "code",
        "colab": {}
      },
      "source": [
        "# TODO.\n",
        "# Write a conditional to set the age.\n"
      ],
      "execution_count": 0,
      "outputs": []
    },
    {
      "cell_type": "markdown",
      "metadata": {
        "id": "rhmQtvUmnNNx",
        "colab_type": "text"
      },
      "source": [
        "Before continuing with the second part of flow control (loops), it will be useful to understand what a list is.\n",
        "\n",
        "## Lists\n",
        "\n",
        "A list is an ordered collection of any type of variables. The sintaxis used for list is as follows:\n",
        "\n",
        "```python\n",
        "list_name = [first_element, second_element, etcetera]\n",
        "```\n",
        "\n",
        "The naming rules are the same as in other variables. \n",
        "\n",
        "You can declare an empty list just by setting squared braquets `[]`. If you want to add an element at the end of a list, we use the `.append(x)` method, where `x`would be the element we want to insert.\n",
        "\n",
        "#### Example:\n"
      ]
    },
    {
      "cell_type": "code",
      "metadata": {
        "id": "5f8xkD-VoerM",
        "colab_type": "code",
        "colab": {}
      },
      "source": [
        "# Example list:\n",
        "prime_numbers = [2, 3, 5, 7, 11]\n",
        "prime_numbers.append(13)\n",
        "print(prime_numbers)"
      ],
      "execution_count": 0,
      "outputs": []
    },
    {
      "cell_type": "markdown",
      "metadata": {
        "id": "yP1GTen8ovX9",
        "colab_type": "text"
      },
      "source": [
        "To access the values of a list, we use indexing, which means that each element has an associated index. To access the element associated, we will use the index inside square braquets.\n",
        "\n",
        "####Example:\n",
        "\n",
        "In our `prime_numbers` would get the corresponding elements as follow:"
      ]
    },
    {
      "cell_type": "code",
      "metadata": {
        "id": "xAevC47uqN7i",
        "colab_type": "code",
        "colab": {}
      },
      "source": [
        "# We can access the elements:\n",
        "print(\"First element: \", prime_numbers[0])\n",
        "print(\"Second element: \", prime_numbers[1])\n",
        "print(\"Third element: \", prime_numbers[2])\n",
        "\n",
        "# We can even access using negative indices:\n",
        "print(\"Last element: \", prime_numbers[-1])"
      ],
      "execution_count": 0,
      "outputs": []
    },
    {
      "cell_type": "markdown",
      "metadata": {
        "id": "WaNJemIwq419",
        "colab_type": "text"
      },
      "source": [
        "#### Exercise:\n",
        "\n",
        "Now, you should be able to create a list called `hidden_hyperspectrum` containing the names of the members of your club.\n"
      ]
    },
    {
      "cell_type": "code",
      "metadata": {
        "id": "nMCLlFAerDWG",
        "colab_type": "code",
        "colab": {}
      },
      "source": [
        "# TODO.\n",
        "# Create a new list containing all the names.\n",
        "hidden_hyperspectrum = []"
      ],
      "execution_count": 0,
      "outputs": []
    },
    {
      "cell_type": "markdown",
      "metadata": {
        "id": "Gz2JkK8DrRIc",
        "colab_type": "text"
      },
      "source": [
        "Now append two new students (you can invent their names)."
      ]
    },
    {
      "cell_type": "code",
      "metadata": {
        "id": "1d-CEterrZL6",
        "colab_type": "code",
        "colab": {}
      },
      "source": [
        "# TODO.\n",
        "# Append two new students called 'Brent' and 'Rodolfo'."
      ],
      "execution_count": 0,
      "outputs": []
    },
    {
      "cell_type": "markdown",
      "metadata": {
        "id": "hkoa6UOarhBD",
        "colab_type": "text"
      },
      "source": [
        "## Loops"
      ]
    },
    {
      "cell_type": "markdown",
      "metadata": {
        "id": "DZOOUM4jrn5O",
        "colab_type": "text"
      },
      "source": [
        "## Dictionaries"
      ]
    },
    {
      "cell_type": "markdown",
      "metadata": {
        "id": "Jq4JVw38rt-2",
        "colab_type": "text"
      },
      "source": [
        "## Functions"
      ]
    },
    {
      "cell_type": "code",
      "metadata": {
        "id": "PZTz7Shhrs1M",
        "colab_type": "code",
        "colab": {}
      },
      "source": [
        ""
      ],
      "execution_count": 0,
      "outputs": []
    }
  ]
}