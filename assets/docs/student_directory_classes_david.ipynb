{
  "nbformat": 4,
  "nbformat_minor": 0,
  "metadata": {
    "colab": {
      "name": "Copy of Intro to Python",
      "version": "0.3.2",
      "provenance": [],
      "collapsed_sections": []
    },
    "kernelspec": {
      "name": "python3",
      "display_name": "Python 3"
    }
  },
  "cells": [
    {
      "cell_type": "markdown",
      "metadata": {
        "id": "1TSZjVq3Jmdb",
        "colab_type": "text"
      },
      "source": [
        "# Side-Quest\n",
        "\n",
        "Write a `class Student` that represents a student with their `name`, `age`, `topics` of interest, and a flag if they're `underage`.\n",
        "\n",
        "Write a `class Directory` which is a `list` of `Student`s and its respective useful methods.\n"
      ]
    },
    {
      "cell_type": "code",
      "metadata": {
        "id": "dq_TeIQRJo7J",
        "colab_type": "code",
        "colab": {}
      },
      "source": [
        "class Student:\n",
        "    ```Student class with operator overloading```\n",
        "    def __init__(self, age, name, topics, underage):\n",
        "        self.age = age\n",
        "        self.name = name\n",
        "        self.topics = topics\n",
        "        self.underage = underage\n",
        "    \n",
        "    def __str__(self):\n",
        "        return f\"{self.name}\\n  Age: {self.age}\\n  Topics of interest: {self.topics}\\n  Underage?: {self.underage}\\n\"\n",
        "        \n",
        "    def __eq__(self, other):\n",
        "        return self.name == other.name"
      ],
      "execution_count": 0,
      "outputs": []
    },
    {
      "cell_type": "code",
      "metadata": {
        "id": "NzaIz1RKLbCb",
        "colab_type": "code",
        "colab": {}
      },
      "source": [
        "class Directory:\n",
        "    ```Directory class implementing its respective useful methods```\n",
        "    def __init__(self, student_list):\n",
        "        self.list = student_list\n",
        "    \n",
        "    def __str__(self):\n",
        "        result = \"\"\n",
        "        for s in self.list:\n",
        "            result += str(s)\n",
        "        return result\n",
        "\n",
        "    def remove(self, name):\n",
        "        temp = Student(0, name, [], False)\n",
        "        self.list.remove(temp)\n",
        "        \n",
        "    def add(self, s):\n",
        "        self.list.append(s)\n",
        "        \n",
        "    def edit(self, name, new_age=-1, new_name=\"\", new_interests=[], new_underage=None):\n",
        "        temp = Student(0, name, [], False)\n",
        "        for s in self.list:\n",
        "            if s==temp:\n",
        "                if new_age != -1:\n",
        "                    s.age = new_age\n",
        "                if new_name != \"\":\n",
        "                    s.name = new_name\n",
        "                if new_interests != []:\n",
        "                    s.interests = new_interests\n",
        "                if new_underage != None:\n",
        "                    s.underage = new_underage\n",
        "            break\n",
        "     \n",
        "    def overage(self):\n",
        "        over = []\n",
        "        for s in self.list:\n",
        "            if s.underage == False:\n",
        "                over.append(s)\n",
        "        return over\n",
        "    \n",
        "    def underage(self):\n",
        "        under = []\n",
        "        for s in self.list:\n",
        "            if s.underage == True:\n",
        "                under.append(s)\n",
        "        return under"
      ],
      "execution_count": 0,
      "outputs": []
    },
    {
      "cell_type": "code",
      "metadata": {
        "id": "7xt6AYJ4Qjxd",
        "colab_type": "code",
        "outputId": "802a8581-72e6-4464-8ae1-a056933a6878",
        "colab": {
          "base_uri": "https://localhost:8080/",
          "height": 538
        }
      },
      "source": [
        "david = Student(19, \"David\", [\"Hyperspectrum\", \"Python\", \"CS\"], False)\n",
        "pedro = Student(16, \"Pedro\", [\"Hyperspectrum\", \"Solar Panels\", \"WiFi\"], True)\n",
        "\n",
        "\n",
        "print(\"Original directory:\")\n",
        "s_list = Directory([pedro, david])\n",
        "print(s_list)\n",
        "\n",
        "print(\"After editing Pedro:\")\n",
        "s_list.edit(\"Pedro\", 5)\n",
        "print(s_list)\n",
        "\n",
        "print(\"After removing Pedro and adding Juan:\")\n",
        "s_list.remove(\"Pedro\")\n",
        "s_list.add(Student(25, \"Juan\", [\"Not empyt\"], False))\n",
        "print(s_list)"
      ],
      "execution_count": 0,
      "outputs": [
        {
          "output_type": "stream",
          "text": [
            "Original directory:\n",
            "Pedro\n",
            "  Age: 16\n",
            "  Topics of interest: ['Hyperspectrum', 'Solar Panels', 'WiFi']\n",
            "  Underage?: True\n",
            "David\n",
            "  Age: 19\n",
            "  Topics of interest: ['Hyperspectrum', 'Python', 'CS']\n",
            "  Underage?: False\n",
            "\n",
            "After editing Pedro:\n",
            "Pedro\n",
            "  Age: 5\n",
            "  Topics of interest: ['Hyperspectrum', 'Solar Panels', 'WiFi']\n",
            "  Underage?: True\n",
            "David\n",
            "  Age: 19\n",
            "  Topics of interest: ['Hyperspectrum', 'Python', 'CS']\n",
            "  Underage?: False\n",
            "\n",
            "After removing Pedro and adding Juan:\n",
            "David\n",
            "  Age: 19\n",
            "  Topics of interest: ['Hyperspectrum', 'Python', 'CS']\n",
            "  Underage?: False\n",
            "Juan\n",
            "  Age: 25\n",
            "  Topics of interest: ['Not empyt']\n",
            "  Underage?: False\n",
            "\n"
          ],
          "name": "stdout"
        }
      ]
    }
  ]
}